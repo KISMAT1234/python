{
 "cells": [
  {
   "cell_type": "code",
   "execution_count": 1,
   "id": "61a72d55",
   "metadata": {},
   "outputs": [
    {
     "name": "stdout",
     "output_type": "stream",
     "text": [
      "python class\n"
     ]
    }
   ],
   "source": [
    "print(\"python class\")"
   ]
  },
  {
   "cell_type": "code",
   "execution_count": 4,
   "id": "b32b27d0",
   "metadata": {},
   "outputs": [
    {
     "name": "stdout",
     "output_type": "stream",
     "text": [
      "15\n"
     ]
    }
   ],
   "source": [
    "num = 8 \n",
    "print(num + 7)"
   ]
  },
  {
   "cell_type": "code",
   "execution_count": null,
   "id": "9d634c8a",
   "metadata": {},
   "outputs": [
    {
     "name": "stdout",
     "output_type": "stream",
     "text": [
      "[]\n"
     ]
    }
   ],
   "source": [
    "num = [\"Nepal\", \"India\", \" China\"]\n",
    "num.clear()\n",
    "print(num)"
   ]
  },
  {
   "cell_type": "code",
   "execution_count": 7,
   "id": "9c2af937",
   "metadata": {},
   "outputs": [
    {
     "data": {
      "text/plain": [
       "['c']"
      ]
     },
     "execution_count": 7,
     "metadata": {},
     "output_type": "execute_result"
    }
   ],
   "source": [
    "sports = [\"a\", \"b\", \"c\", \"d\"]\n",
    "sports[2:3]"
   ]
  },
  {
   "cell_type": "code",
   "execution_count": 16,
   "id": "4c1bda1e",
   "metadata": {},
   "outputs": [
    {
     "name": "stdout",
     "output_type": "stream",
     "text": [
      "[8, 5, 4, 3, 1, 0]\n"
     ]
    }
   ],
   "source": [
    "sports = [1,8,3,0,5, 4]\n",
    "sports.sort(reverse=True)\n",
    "print(sports)"
   ]
  },
  {
   "cell_type": "code",
   "execution_count": null,
   "id": "7351f0cc",
   "metadata": {},
   "outputs": [],
   "source": []
  },
  {
   "cell_type": "code",
   "execution_count": null,
   "id": "10d27fe2",
   "metadata": {},
   "outputs": [
    {
     "name": "stdout",
     "output_type": "stream",
     "text": [
      "['ccrc', 'ismt']\n"
     ]
    }
   ],
   "source": [
    "school = [\"ccrc\", \"kist\", \"ismt\"]\n",
    "school.remove(\"kist\")\n",
    "print(school)"
   ]
  },
  {
   "cell_type": "code",
   "execution_count": null,
   "id": "de9d493c",
   "metadata": {},
   "outputs": [
    {
     "data": {
      "text/plain": [
       "'tbl'"
      ]
     },
     "execution_count": 30,
     "metadata": {},
     "output_type": "execute_result"
    }
   ],
   "source": [
    "shoes = [{\n",
    "    \"name\": \"hari\",\n",
    "    \"age\":2\n",
    "}, \n",
    "[\"1\",\"2\"]]\n",
    "shoes.pop()"
   ]
  },
  {
   "cell_type": "code",
   "execution_count": 22,
   "id": "716c9243",
   "metadata": {},
   "outputs": [
    {
     "name": "stdout",
     "output_type": "stream",
     "text": [
      "['hari', 'ram', 'shyam', 'ravi', 'om', 'ujjwal']\n"
     ]
    }
   ],
   "source": [
    "man = [\"hari\",\"ram\", \"shyam\"]\n",
    "man.extend([\"ravi\",\"om\", \"ujjwal\"])\n",
    "print(man)"
   ]
  },
  {
   "cell_type": "code",
   "execution_count": null,
   "id": "e545339a",
   "metadata": {},
   "outputs": [
    {
     "name": "stdout",
     "output_type": "stream",
     "text": [
      "['kismat', 'cristiano', 'neymar', 'mbappe']\n"
     ]
    }
   ],
   "source": [
    "player = [\"messi\", \"cristiano\", \"neymar\", \"mbappe\"]\n",
    "player[0] = \"kismat\"\n",
    "print(player)\n"
   ]
  }
 ],
 "metadata": {
  "kernelspec": {
   "display_name": "pyClass",
   "language": "python",
   "name": "python3"
  },
  "language_info": {
   "codemirror_mode": {
    "name": "ipython",
    "version": 3
   },
   "file_extension": ".py",
   "mimetype": "text/x-python",
   "name": "python",
   "nbconvert_exporter": "python",
   "pygments_lexer": "ipython3",
   "version": "3.13.4"
  }
 },
 "nbformat": 4,
 "nbformat_minor": 5
}
