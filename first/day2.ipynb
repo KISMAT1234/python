{
 "cells": [
  {
   "cell_type": "code",
   "execution_count": 1,
   "id": "61a72d55",
   "metadata": {},
   "outputs": [
    {
     "name": "stdout",
     "output_type": "stream",
     "text": [
      "python class\n"
     ]
    }
   ],
   "source": [
    "print(\"python class\")"
   ]
  },
  {
   "cell_type": "code",
   "execution_count": 4,
   "id": "b32b27d0",
   "metadata": {},
   "outputs": [
    {
     "name": "stdout",
     "output_type": "stream",
     "text": [
      "15\n"
     ]
    }
   ],
   "source": [
    "num = 8 \n",
    "print(num + 7)"
   ]
  }
 ],
 "metadata": {
  "kernelspec": {
   "display_name": "pyClass",
   "language": "python",
   "name": "python3"
  },
  "language_info": {
   "codemirror_mode": {
    "name": "ipython",
    "version": 3
   },
   "file_extension": ".py",
   "mimetype": "text/x-python",
   "name": "python",
   "nbconvert_exporter": "python",
   "pygments_lexer": "ipython3",
   "version": "3.13.4"
  }
 },
 "nbformat": 4,
 "nbformat_minor": 5
}
