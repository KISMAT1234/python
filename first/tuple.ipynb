{
 "cells": [
  {
   "cell_type": "code",
   "execution_count": 10,
   "id": "3fb67b5c",
   "metadata": {},
   "outputs": [
    {
     "name": "stdout",
     "output_type": "stream",
     "text": [
      "1\n",
      "('nepal', 'india', 'bhutan', 1, 4.5, {'a': 1, 'b': 2})\n"
     ]
    }
   ],
   "source": [
    "job = (\"nepal\", \"india\", \"bhutan\", 1, 4.5,{\n",
    "    \"a\":1,\n",
    "    \"b\":2\n",
    "})\n",
    "print(job.count(\"nepal\"))\n",
    "print(job)"
   ]
  },
  {
   "cell_type": "code",
   "execution_count": 1,
   "id": "fe302d89",
   "metadata": {},
   "outputs": [
    {
     "name": "stdout",
     "output_type": "stream",
     "text": [
      "(1, 2, 3, 'k', 'b')\n"
     ]
    }
   ],
   "source": [
    "a = (1,2,3) \n",
    "b= (\"k\", \"b\")\n",
    "print(a+b)"
   ]
  },
  {
   "cell_type": "code",
   "execution_count": 6,
   "id": "5e68318f",
   "metadata": {},
   "outputs": [
    {
     "name": "stdout",
     "output_type": "stream",
     "text": [
      "('k', 'b', 'k', 'b', 'k', 'b', 'k', 'b', 'k', 'b', 'k', 'b', 'k', 'b', 'k', 'b', 'k', 'b', 'k', 'b')\n"
     ]
    }
   ],
   "source": [
    "b = ((\"k\",\"b\")*10)\n",
    "print(b)"
   ]
  }
 ],
 "metadata": {
  "kernelspec": {
   "display_name": "pyClass",
   "language": "python",
   "name": "python3"
  },
  "language_info": {
   "codemirror_mode": {
    "name": "ipython",
    "version": 3
   },
   "file_extension": ".py",
   "mimetype": "text/x-python",
   "name": "python",
   "nbconvert_exporter": "python",
   "pygments_lexer": "ipython3",
   "version": "3.13.4"
  }
 },
 "nbformat": 4,
 "nbformat_minor": 5
}
